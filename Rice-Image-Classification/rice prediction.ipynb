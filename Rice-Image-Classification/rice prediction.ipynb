{
 "cells": [
  {
   "cell_type": "markdown",
   "metadata": {},
   "source": [
    "import the libraries"
   ]
  },
  {
   "cell_type": "code",
   "execution_count": 65,
   "metadata": {},
   "outputs": [],
   "source": [
    "import seaborn as sns\n",
    "import matplotlib.pyplot as plt\n",
    "import numpy as np\n",
    "import tensorflow as tf\n",
    "from tensorflow.keras import layers\n",
    "from tensorflow.keras.preprocessing.image import ImageDataGenerator\n",
    "from tensorflow.keras.models import Sequential, load_model\n",
    "from tensorflow.keras.layers import Conv2D, MaxPooling2D, Dense, Dropout, Flatten  "
   ]
  },
  {
   "cell_type": "markdown",
   "metadata": {},
   "source": [
    "Fetch images"
   ]
  },
  {
   "cell_type": "code",
   "execution_count": 66,
   "metadata": {},
   "outputs": [],
   "source": [
    "base_dir= 'rice data 1'\n",
    "batch=32\n",
    "img_size=128"
   ]
  },
  {
   "cell_type": "markdown",
   "metadata": {},
   "source": [
    "check catagory_ds"
   ]
  },
  {
   "cell_type": "code",
   "execution_count": 69,
   "metadata": {},
   "outputs": [],
   "source": [
    "#rice_name=train_ds.class_name\n",
    "#rice_name"
   ]
  },
  {
   "cell_type": "markdown",
   "metadata": {},
   "source": [
    "data convert into autotoune"
   ]
  },
  {
   "cell_type": "code",
   "execution_count": 73,
   "metadata": {},
   "outputs": [],
   "source": [
    "#model creation \n",
    "\n",
    "model = Sequential([\n",
    "    Conv2D(32, (3, 3), activation='relu', input_shape=(128, 128, 1)), # Input: grayscale images\n",
    "    MaxPooling2D((2, 2)),\n",
    "    Conv2D(64, (3, 3), activation='relu'),\n",
    "    MaxPooling2D((2, 2)),\n",
    "    Conv2D(128, (3, 3), activation='relu'),\n",
    "    MaxPooling2D((2, 2)),\n",
    "    Flatten(),\n",
    "    Dense(128, activation='relu'),\n",
    "    Dropout(0.5),\n",
    "    Dense(5, activation='softmax')  # 4 classes\n",
    "])\n",
    "\n",
    "model.compile(optimizer='adam',\n",
    "              loss='categorical_crossentropy',\n",
    "              metrics=['accuracy'])"
   ]
  },
  {
   "cell_type": "code",
   "execution_count": 74,
   "metadata": {},
   "outputs": [
    {
     "name": "stdout",
     "output_type": "stream",
     "text": [
      "Found 45493 images belonging to 5 classes.\n",
      "Found 3000 images belonging to 5 classes.\n"
     ]
    }
   ],
   "source": [
    "datagen = ImageDataGenerator(rescale=1./255, validation_split=0.3)\n",
    "\n",
    "train_ds = datagen.flow_from_directory(\n",
    "    'rice data',\n",
    "    target_size=(128, 128),\n",
    "    color_mode='grayscale',\n",
    "    batch_size=32,\n",
    "    class_mode='categorical',\n",
    "    subset='training')\n",
    "\n",
    "val_ds = datagen.flow_from_directory(\n",
    "    'rice data 1',\n",
    "    target_size=(128, 128),\n",
    "    color_mode='grayscale',\n",
    "    batch_size=32,\n",
    "    class_mode='categorical',\n",
    "    subset='validation')"
   ]
  },
  {
   "cell_type": "code",
   "execution_count": 75,
   "metadata": {},
   "outputs": [
    {
     "name": "stdout",
     "output_type": "stream",
     "text": [
      "Epoch 1/15\n",
      "\u001b[1m1422/1422\u001b[0m \u001b[32m━━━━━━━━━━━━━━━━━━━━\u001b[0m\u001b[37m\u001b[0m \u001b[1m1061s\u001b[0m 744ms/step - accuracy: 0.9040 - loss: 0.2740 - val_accuracy: 0.9750 - val_loss: 0.0671\n",
      "Epoch 2/15\n",
      "\u001b[1m1422/1422\u001b[0m \u001b[32m━━━━━━━━━━━━━━━━━━━━\u001b[0m\u001b[37m\u001b[0m \u001b[1m697s\u001b[0m 490ms/step - accuracy: 0.9671 - loss: 0.0997 - val_accuracy: 0.9857 - val_loss: 0.0467\n",
      "Epoch 3/15\n",
      "\u001b[1m1422/1422\u001b[0m \u001b[32m━━━━━━━━━━━━━━━━━━━━\u001b[0m\u001b[37m\u001b[0m \u001b[1m439s\u001b[0m 309ms/step - accuracy: 0.9759 - loss: 0.0750 - val_accuracy: 0.9867 - val_loss: 0.0391\n",
      "Epoch 4/15\n",
      "\u001b[1m1422/1422\u001b[0m \u001b[32m━━━━━━━━━━━━━━━━━━━━\u001b[0m\u001b[37m\u001b[0m \u001b[1m404s\u001b[0m 284ms/step - accuracy: 0.9803 - loss: 0.0595 - val_accuracy: 0.9897 - val_loss: 0.0366\n",
      "Epoch 5/15\n",
      "\u001b[1m1422/1422\u001b[0m \u001b[32m━━━━━━━━━━━━━━━━━━━━\u001b[0m\u001b[37m\u001b[0m \u001b[1m370s\u001b[0m 260ms/step - accuracy: 0.9851 - loss: 0.0446 - val_accuracy: 0.9897 - val_loss: 0.0305\n",
      "Epoch 6/15\n",
      "\u001b[1m1422/1422\u001b[0m \u001b[32m━━━━━━━━━━━━━━━━━━━━\u001b[0m\u001b[37m\u001b[0m \u001b[1m375s\u001b[0m 264ms/step - accuracy: 0.9850 - loss: 0.0461 - val_accuracy: 0.9903 - val_loss: 0.0302\n",
      "Epoch 7/15\n",
      "\u001b[1m1422/1422\u001b[0m \u001b[32m━━━━━━━━━━━━━━━━━━━━\u001b[0m\u001b[37m\u001b[0m \u001b[1m376s\u001b[0m 264ms/step - accuracy: 0.9880 - loss: 0.0374 - val_accuracy: 0.9900 - val_loss: 0.0308\n",
      "Epoch 8/15\n",
      "\u001b[1m1422/1422\u001b[0m \u001b[32m━━━━━━━━━━━━━━━━━━━━\u001b[0m\u001b[37m\u001b[0m \u001b[1m375s\u001b[0m 264ms/step - accuracy: 0.9883 - loss: 0.0356 - val_accuracy: 0.9913 - val_loss: 0.0290\n",
      "Epoch 9/15\n",
      "\u001b[1m1422/1422\u001b[0m \u001b[32m━━━━━━━━━━━━━━━━━━━━\u001b[0m\u001b[37m\u001b[0m \u001b[1m372s\u001b[0m 262ms/step - accuracy: 0.9898 - loss: 0.0296 - val_accuracy: 0.9913 - val_loss: 0.0320\n",
      "Epoch 10/15\n",
      "\u001b[1m1422/1422\u001b[0m \u001b[32m━━━━━━━━━━━━━━━━━━━━\u001b[0m\u001b[37m\u001b[0m \u001b[1m374s\u001b[0m 263ms/step - accuracy: 0.9918 - loss: 0.0251 - val_accuracy: 0.9920 - val_loss: 0.0309\n",
      "Epoch 11/15\n",
      "\u001b[1m1422/1422\u001b[0m \u001b[32m━━━━━━━━━━━━━━━━━━━━\u001b[0m\u001b[37m\u001b[0m \u001b[1m377s\u001b[0m 265ms/step - accuracy: 0.9919 - loss: 0.0224 - val_accuracy: 0.9953 - val_loss: 0.0258\n",
      "Epoch 12/15\n",
      "\u001b[1m1422/1422\u001b[0m \u001b[32m━━━━━━━━━━━━━━━━━━━━\u001b[0m\u001b[37m\u001b[0m \u001b[1m377s\u001b[0m 265ms/step - accuracy: 0.9935 - loss: 0.0204 - val_accuracy: 0.9930 - val_loss: 0.0267\n",
      "Epoch 13/15\n",
      "\u001b[1m1422/1422\u001b[0m \u001b[32m━━━━━━━━━━━━━━━━━━━━\u001b[0m\u001b[37m\u001b[0m \u001b[1m377s\u001b[0m 265ms/step - accuracy: 0.9938 - loss: 0.0179 - val_accuracy: 0.9913 - val_loss: 0.0337\n",
      "Epoch 14/15\n",
      "\u001b[1m1422/1422\u001b[0m \u001b[32m━━━━━━━━━━━━━━━━━━━━\u001b[0m\u001b[37m\u001b[0m \u001b[1m373s\u001b[0m 262ms/step - accuracy: 0.9952 - loss: 0.0156 - val_accuracy: 0.9933 - val_loss: 0.0264\n",
      "Epoch 15/15\n",
      "\u001b[1m1422/1422\u001b[0m \u001b[32m━━━━━━━━━━━━━━━━━━━━\u001b[0m\u001b[37m\u001b[0m \u001b[1m374s\u001b[0m 263ms/step - accuracy: 0.9959 - loss: 0.0117 - val_accuracy: 0.9933 - val_loss: 0.0322\n"
     ]
    },
    {
     "data": {
      "text/plain": [
       "<keras.src.callbacks.history.History at 0x24a8d43aed0>"
      ]
     },
     "execution_count": 75,
     "metadata": {},
     "output_type": "execute_result"
    }
   ],
   "source": [
    "model.fit(train_ds, validation_data=val_ds, epochs=15)\n"
   ]
  },
  {
   "cell_type": "code",
   "execution_count": 76,
   "metadata": {},
   "outputs": [
    {
     "name": "stderr",
     "output_type": "stream",
     "text": [
      "WARNING:absl:You are saving your model as an HDF5 file via `model.save()` or `keras.saving.save_model(model)`. This file format is considered legacy. We recommend using instead the native Keras format, e.g. `model.save('my_model.keras')` or `keras.saving.save_model(model, 'my_model.keras')`. \n"
     ]
    }
   ],
   "source": [
    "model.save('Rice_Model.h5')"
   ]
  }
 ],
 "metadata": {
  "kernelspec": {
   "display_name": "Python 3",
   "language": "python",
   "name": "python3"
  },
  "language_info": {
   "codemirror_mode": {
    "name": "ipython",
    "version": 3
   },
   "file_extension": ".py",
   "mimetype": "text/x-python",
   "name": "python",
   "nbconvert_exporter": "python",
   "pygments_lexer": "ipython3",
   "version": "3.12.7"
  }
 },
 "nbformat": 4,
 "nbformat_minor": 2
}
